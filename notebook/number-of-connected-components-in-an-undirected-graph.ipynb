{
 "cells": [
  {
   "attachments": {},
   "cell_type": "markdown",
   "metadata": {},
   "source": [
    "# Number of Connected Components in an Undirected Graph (Leetcode Premium)"
   ]
  },
  {
   "attachments": {},
   "cell_type": "markdown",
   "metadata": {},
   "source": [
    "Given n nodes labeled from 0 to n - 1 and a list of undirected edges (each edge is a pair of nodes), write a function to find the number of connected components in an undirected graph.\n",
    "\n",
    "```\n",
    "Example 1:\n",
    "     0          3\n",
    "     |          |\n",
    "     1 --- 2    4\n",
    "```\n",
    "Given n = 5 and edges = [[0, 1], [1, 2], [3, 4]], return 2.\n",
    "\n",
    "```\n",
    "Example 2:\n",
    "     0           4\n",
    "     |           |\n",
    "     1 --- 2 --- 3\n",
    "```\n",
    "Given n = 5 and edges = [[0, 1], [1, 2], [2, 3], [3, 4]], return 1.\n",
    "\n",
    "Note:\n",
    "You can assume that no duplicate edges will appear in edges. Since all edges are undirected, [0, 1] is the same as [1, 0] and thus will not appear together in edges."
   ]
  },
  {
   "cell_type": "code",
   "execution_count": 2,
   "metadata": {},
   "outputs": [],
   "source": [
    "def get_adjacency_list(edges_list, num_nodes):\n",
    "    adjacency_list = [[] for _ in range(num_nodes)]\n",
    "    for edge in edges_list:\n",
    "        adjacency_list[edge[0]].append(edge[1])\n",
    "        adjacency_list[edge[1]].append(edge[0])\n",
    "    return adjacency_list\n",
    "\n",
    "\n",
    "def dfs(node, adjacency_list, visited):\n",
    "    if visited[node]:\n",
    "        return\n",
    "\n",
    "    visited[node] = True\n",
    "\n",
    "    for next_node in adjacency_list[node]:\n",
    "        dfs(next_node, adjacency_list, visited)\n",
    "\n",
    "    return\n",
    "\n",
    "\n",
    "# space = O(V+E)\n",
    "# time = O(V+E)\n",
    "def count_components(edges_list, num_nodes):\n",
    "    adjacency_list = get_adjacency_list(edges_list, num_nodes)\n",
    "    visited = [False for _ in range(num_nodes)]\n",
    "    components_count = 0\n",
    "\n",
    "    for node in range(len(adjacency_list)):\n",
    "        if visited[node]:\n",
    "            continue\n",
    "        dfs(node, adjacency_list, visited)\n",
    "        components_count += 1\n",
    "\n",
    "    return components_count\n"
   ]
  },
  {
   "cell_type": "code",
   "execution_count": 3,
   "metadata": {},
   "outputs": [],
   "source": [
    "n = 5\n",
    "edges = [[0, 1], [1, 2], [3, 4]]\n",
    "\n",
    "assert count_components(edges, n) == 2"
   ]
  },
  {
   "cell_type": "code",
   "execution_count": 4,
   "metadata": {},
   "outputs": [],
   "source": [
    "n = 5\n",
    "edges = [[0, 1], [1, 2], [2, 3], [3, 4]]\n",
    "assert count_components(edges, n) == 1"
   ]
  }
 ],
 "metadata": {
  "kernelspec": {
   "display_name": "Python 3",
   "language": "python",
   "name": "python3"
  },
  "language_info": {
   "codemirror_mode": {
    "name": "ipython",
    "version": 3
   },
   "file_extension": ".py",
   "mimetype": "text/x-python",
   "name": "python",
   "nbconvert_exporter": "python",
   "pygments_lexer": "ipython3",
   "version": "3.10.4"
  },
  "orig_nbformat": 4
 },
 "nbformat": 4,
 "nbformat_minor": 2
}
