{
 "cells": [
  {
   "attachments": {},
   "cell_type": "markdown",
   "metadata": {},
   "source": [
    "# Counting Bits"
   ]
  },
  {
   "attachments": {},
   "cell_type": "markdown",
   "metadata": {},
   "source": [
    "Given an integer `n`, return an array `ans` of length `n + 1` such that for each `i` `(0 <= i <= n)`, `ans[i]` is the number of `1`'s in the binary representation of `i`."
   ]
  },
  {
   "attachments": {},
   "cell_type": "markdown",
   "metadata": {},
   "source": [
    "Example 1:\n",
    "```\n",
    "Input: n = 2\n",
    "Output: [0,1,1]\n",
    "Explanation:\n",
    "0 --> 0\n",
    "1 --> 1\n",
    "2 --> 10\n",
    "```"
   ]
  },
  {
   "attachments": {},
   "cell_type": "markdown",
   "metadata": {},
   "source": [
    "Example 2:\n",
    "```\n",
    "Input: n = 5\n",
    "Output: [0,1,1,2,1,2]\n",
    "Explanation:\n",
    "0 --> 0\n",
    "1 --> 1\n",
    "2 --> 10\n",
    "3 --> 11\n",
    "4 --> 100\n",
    "5 --> 101\n",
    "```"
   ]
  },
  {
   "attachments": {},
   "cell_type": "markdown",
   "metadata": {},
   "source": [
    "# Solution Note"
   ]
  },
  {
   "attachments": {},
   "cell_type": "markdown",
   "metadata": {},
   "source": [
    "\n",
    "```\n",
    "0 -> 0 -> 0 -> 0\n",
    "1 -> 1 -> 1 -> 1\n",
    "2 -> 10 -> 1 -> 1 + ans[0] -> ans[2-2]\n",
    "3 -> 11 -> 2 -> 1 + ans[1] -> ans[3-2]\n",
    "4 -> 100 -> 1 -> 1 + ans[0] -> ans[4-4]\n",
    "5 -> 101 -> 2 -> 1 + ans[1] -> ans[5-4]\n",
    "6 -> 110 -> 2 -> 1 + ans[2] -> ans[6-4]\n",
    "7 -> 111 -> 3 -> 1 + ans[3] -> ans[7-4]\n",
    "8 -> 1000 -> 1 -> 1 + ans[0] -> ans[8-8]\n",
    "9 -> 1001 -> 2 -> 1 + ans[1] -> ans[9-8]\n",
    "10 -> 1010 -> 2 -> 1 + ans[2] -> ans[10-8]\n",
    "11 -> 1011 -> 3 -> 1 + ans[3] -> ans[11-8]\n",
    "\n",
    "\n",
    "ans[i] = 1 + and[i - offset]\n",
    "offset = biggest 2^x where 2^x <= i\n",
    "```"
   ]
  },
  {
   "cell_type": "code",
   "execution_count": 2,
   "metadata": {},
   "outputs": [],
   "source": [
    "class Solution():\n",
    "    def countBits(self, n: int) -> list[int]:\n",
    "      ans = [0] * (n + 1)\n",
    "      offset = 1\n",
    "      \n",
    "      for i in range(1, n + 1):\n",
    "        if offset * 2 == i:\n",
    "          offset = i\n",
    "        ans[i] = 1 + ans[i - offset]\n",
    "      \n",
    "      return ans"
   ]
  },
  {
   "cell_type": "code",
   "execution_count": 3,
   "metadata": {},
   "outputs": [
    {
     "name": "stdout",
     "output_type": "stream",
     "text": [
      "[0, 1, 1]\n"
     ]
    }
   ],
   "source": [
    "n = 2\n",
    "expected = [0,1,1]\n",
    "\n",
    "output =Solution().countBits(n)\n",
    "\n",
    "print(output)\n",
    "\n",
    "assert output == expected"
   ]
  },
  {
   "cell_type": "code",
   "execution_count": 4,
   "metadata": {},
   "outputs": [
    {
     "name": "stdout",
     "output_type": "stream",
     "text": [
      "[0, 1, 1, 2, 1, 2]\n"
     ]
    }
   ],
   "source": [
    "n = 5\n",
    "expected = [0,1,1,2,1,2]\n",
    "\n",
    "output =Solution().countBits(n)\n",
    "\n",
    "print(output)\n",
    "\n",
    "assert output == expected"
   ]
  },
  {
   "cell_type": "code",
   "execution_count": null,
   "metadata": {},
   "outputs": [],
   "source": []
  }
 ],
 "metadata": {
  "kernelspec": {
   "display_name": "Python 3",
   "language": "python",
   "name": "python3"
  },
  "language_info": {
   "codemirror_mode": {
    "name": "ipython",
    "version": 3
   },
   "file_extension": ".py",
   "mimetype": "text/x-python",
   "name": "python",
   "nbconvert_exporter": "python",
   "pygments_lexer": "ipython3",
   "version": "3.10.4"
  },
  "orig_nbformat": 4
 },
 "nbformat": 4,
 "nbformat_minor": 2
}
