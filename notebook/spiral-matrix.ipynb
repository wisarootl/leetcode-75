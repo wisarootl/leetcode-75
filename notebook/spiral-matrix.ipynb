{
 "cells": [
  {
   "attachments": {},
   "cell_type": "markdown",
   "metadata": {},
   "source": [
    "Given an m x n matrix, return all elements of the matrix in spiral order.\n",
    "\n",
    "```\n",
    "matrix = [[1,2,3],\n",
    "          [4,5,6],\n",
    "          [7,8,9]]\n",
    "\n",
    "expected = [1,2,3,6,9,8,7,4,5]\n",
    "```\n"
   ]
  },
  {
   "cell_type": "code",
   "execution_count": 1,
   "metadata": {},
   "outputs": [],
   "source": [
    "class Solution:\n",
    "    def spiralOrder(self, matrix: list[list[int]]) -> list[int]:\n",
    "      result = []\n",
    "      row_begin = 0\n",
    "      col_begin = 0\n",
    "      row_end = len(matrix) - 1\n",
    "      col_end = len(matrix[0]) - 1\n",
    "      \n",
    "      while row_begin <= row_end and col_begin <= col_end:\n",
    "          \n",
    "        # top\n",
    "        for i in range(col_begin, col_end + 1):\n",
    "            result.append(matrix[row_begin][i])\n",
    "        \n",
    "        if row_begin == row_end:\n",
    "            break\n",
    "            \n",
    "        # right\n",
    "        for i in range(row_begin + 1, row_end + 1):\n",
    "            result.append(matrix[i][col_end])\n",
    "            \n",
    "        # bottom\n",
    "        for i in range(col_end - 1, col_begin - 1, -1):\n",
    "            result.append(matrix[row_end][i])\n",
    "        \n",
    "        # left\n",
    "        for i in range(row_end - 1, row_begin, -1):\n",
    "            result.append(matrix[i][col_begin])\n",
    "        \n",
    "        row_begin += 1\n",
    "        row_end -= 1\n",
    "        col_begin += 1\n",
    "        col_end -= 1\n",
    "\n",
    "      return result"
   ]
  },
  {
   "cell_type": "code",
   "execution_count": 2,
   "metadata": {},
   "outputs": [
    {
     "name": "stdout",
     "output_type": "stream",
     "text": [
      "[1, 2, 3, 6, 9, 8, 7, 4, 5]\n"
     ]
    }
   ],
   "source": [
    "matrix = [[1,2,3],\n",
    "          [4,5,6],\n",
    "          [7,8,9]]\n",
    "\n",
    "expected = [1,2,3,6,9,8,7,4,5]\n",
    "\n",
    "\n",
    "output = Solution().spiralOrder(matrix)\n",
    "\n",
    "print(output)\n",
    "\n",
    "assert output == expected"
   ]
  },
  {
   "cell_type": "code",
   "execution_count": 3,
   "metadata": {},
   "outputs": [
    {
     "name": "stdout",
     "output_type": "stream",
     "text": [
      "[1, 2, 3, 4, 8, 12, 11, 10, 9, 5, 6, 7]\n"
     ]
    }
   ],
   "source": [
    "matrix = [[1,2,3,4],\n",
    "          [5,6,7,8],\n",
    "          [9,10,11,12]]\n",
    "expected = [1,2,3,4,8,12,11,10,9,5,6,7]\n",
    "\n",
    "output = Solution().spiralOrder(matrix)\n",
    "\n",
    "print(output)\n",
    "\n",
    "assert output == expected"
   ]
  },
  {
   "cell_type": "code",
   "execution_count": 4,
   "metadata": {},
   "outputs": [
    {
     "name": "stdout",
     "output_type": "stream",
     "text": [
      "[1, 2, 3, 6, 9, 12, 11, 10, 7, 4, 5, 8]\n"
     ]
    }
   ],
   "source": [
    "matrix = [\n",
    "  [1, 2, 3],\n",
    "  [4, 5, 6],\n",
    "  [7, 8, 9],\n",
    "  [10, 11, 12]\n",
    "]\n",
    "expected = [1, 2, 3, 6, 9, 12, 11, 10, 7, 4, 5, 8]\n",
    "\n",
    "output = Solution().spiralOrder(matrix)\n",
    "\n",
    "print(output)\n",
    "\n",
    "assert output == expected"
   ]
  }
 ],
 "metadata": {
  "kernelspec": {
   "display_name": "Python 3",
   "language": "python",
   "name": "python3"
  },
  "language_info": {
   "codemirror_mode": {
    "name": "ipython",
    "version": 3
   },
   "file_extension": ".py",
   "mimetype": "text/x-python",
   "name": "python",
   "nbconvert_exporter": "python",
   "pygments_lexer": "ipython3",
   "version": "3.10.4"
  },
  "orig_nbformat": 4
 },
 "nbformat": 4,
 "nbformat_minor": 2
}
