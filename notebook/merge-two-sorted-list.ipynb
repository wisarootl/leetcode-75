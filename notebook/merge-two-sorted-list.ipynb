{
 "cells": [
  {
   "cell_type": "code",
   "execution_count": 1,
   "metadata": {},
   "outputs": [],
   "source": [
    "from typing import Optional"
   ]
  },
  {
   "cell_type": "code",
   "execution_count": 2,
   "metadata": {},
   "outputs": [],
   "source": [
    "# Definition for singly-linked list.\n",
    "class ListNode:\n",
    "    def __init__(self, val=0, next=None):\n",
    "        self.val = val\n",
    "        self.next = next\n",
    "        \n",
    "class Solution:\n",
    "    def mergeTwoLists(self, list1: Optional[ListNode], list2: Optional[ListNode]) -> Optional[ListNode]:\n",
    "        cur = dummy = ListNode()\n",
    "        while list1 and list2:\n",
    "            if list1.val < list2.val:\n",
    "                cur.next = list1\n",
    "                list1, cur = list1.next, list1\n",
    "            else:\n",
    "                cur.next = list2\n",
    "                list2, cur = list2.next, list2\n",
    "            \n",
    "        if list1 or list2:\n",
    "            cur.next = list1 if list1 else list2\n",
    "\n",
    "        return dummy.next"
   ]
  },
  {
   "cell_type": "code",
   "execution_count": 10,
   "metadata": {},
   "outputs": [
    {
     "name": "stdout",
     "output_type": "stream",
     "text": [
      "1\n",
      "1\n",
      "2\n"
     ]
    }
   ],
   "source": [
    "list1 = ListNode(1)\n",
    "list1.next = ListNode(2)\n",
    "list1.next.next = ListNode(3)\n",
    "\n",
    "list2 = ListNode(1)\n",
    "list2.next = ListNode(3)\n",
    "list2.next.next = ListNode(4)\n",
    "\n",
    "\n",
    "output = Solution().mergeTwoLists(list1, list2)\n",
    "\n",
    "print(output.val)\n",
    "print(output.next.val)\n",
    "print(output.next.next.val)\n",
    "assert output.val == 1\n",
    "assert output.next.val == 1\n",
    "assert output.next.next.val == 2"
   ]
  },
  {
   "cell_type": "code",
   "execution_count": null,
   "metadata": {},
   "outputs": [],
   "source": []
  }
 ],
 "metadata": {
  "kernelspec": {
   "display_name": "Python 3",
   "language": "python",
   "name": "python3"
  },
  "language_info": {
   "codemirror_mode": {
    "name": "ipython",
    "version": 3
   },
   "file_extension": ".py",
   "mimetype": "text/x-python",
   "name": "python",
   "nbconvert_exporter": "python",
   "pygments_lexer": "ipython3",
   "version": "3.10.4"
  },
  "orig_nbformat": 4
 },
 "nbformat": 4,
 "nbformat_minor": 2
}
