{
 "cells": [
  {
   "cell_type": "code",
   "execution_count": 1,
   "metadata": {},
   "outputs": [],
   "source": [
    "class Solution:\n",
    "    def get_adjacency_list(\n",
    "        self, num_nodes: int, edges_list: list[list[int]]\n",
    "    ) -> list[list[int]]:\n",
    "        adjacency_list = [[] for _ in range(num_nodes)]\n",
    "        for node1, node2 in edges_list:\n",
    "            adjacency_list[node2].append(node1)\n",
    "        return adjacency_list\n",
    "\n",
    "    # time = O(v + e)\n",
    "    # space = O(v + e)\n",
    "    def canFinish(self, numCourses: int, prerequisites: list[list[int]]) -> bool:\n",
    "        adjacency_list = self.get_adjacency_list(numCourses, prerequisites)\n",
    "        visited_node = set()\n",
    "        processing_node = set()\n",
    "        cyclic_status = False\n",
    "\n",
    "        for node in range(len(adjacency_list)):\n",
    "            if node in visited_node:\n",
    "                continue\n",
    "            cyclic_status = self.dfs(\n",
    "                node, adjacency_list, visited_node, processing_node, cyclic_status\n",
    "            )\n",
    "            if cyclic_status:\n",
    "                return False\n",
    "\n",
    "        return True\n",
    "\n",
    "    def dfs(\n",
    "        self,\n",
    "        node: int,\n",
    "        adjacency_list: list[list[int]],\n",
    "        visited_node: set[int],\n",
    "        processing_node: set[int],\n",
    "        cyclic_status: bool,\n",
    "    ) -> bool:\n",
    "        if node in visited_node:\n",
    "            return cyclic_status\n",
    "        if node in processing_node:\n",
    "            cyclic_status = True\n",
    "            return cyclic_status\n",
    "\n",
    "        processing_node.add(node)\n",
    "        for next_node in adjacency_list[node]:\n",
    "            cyclic_status = self.dfs(\n",
    "                next_node, adjacency_list, visited_node, processing_node, cyclic_status\n",
    "            )\n",
    "\n",
    "        processing_node.remove(node)\n",
    "        visited_node.add(node)\n",
    "        return cyclic_status\n"
   ]
  },
  {
   "cell_type": "code",
   "execution_count": 2,
   "metadata": {},
   "outputs": [],
   "source": [
    "numCourses = 2\n",
    "prerequisites = [[1,0],[0,1]]\n",
    "assert Solution().canFinish(numCourses, prerequisites) == False"
   ]
  },
  {
   "cell_type": "code",
   "execution_count": 3,
   "metadata": {},
   "outputs": [],
   "source": [
    "numCourses = 2\n",
    "prerequisites = [[1,0]]\n",
    "assert Solution().canFinish(numCourses, prerequisites) == True"
   ]
  }
 ],
 "metadata": {
  "kernelspec": {
   "display_name": "Python 3",
   "language": "python",
   "name": "python3"
  },
  "language_info": {
   "codemirror_mode": {
    "name": "ipython",
    "version": 3
   },
   "file_extension": ".py",
   "mimetype": "text/x-python",
   "name": "python",
   "nbconvert_exporter": "python",
   "pygments_lexer": "ipython3",
   "version": "3.10.4"
  },
  "orig_nbformat": 4
 },
 "nbformat": 4,
 "nbformat_minor": 2
}
