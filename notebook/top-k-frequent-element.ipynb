{
 "cells": [
  {
   "cell_type": "markdown",
   "metadata": {},
   "source": [
    "# Top K Frequent Elements"
   ]
  },
  {
   "cell_type": "markdown",
   "metadata": {},
   "source": [
    "Given an integer array `nums` and an integer `k`, return the `k` most frequent elements. You may return the answer in any order."
   ]
  },
  {
   "cell_type": "markdown",
   "metadata": {},
   "source": [
    "Example 1:\n",
    "\n",
    "```\n",
    "Input: nums = [1,1,1,2,2,3], k = 2\n",
    "Output: [1,2]\n",
    "```"
   ]
  },
  {
   "cell_type": "markdown",
   "metadata": {},
   "source": [
    "Example 2:\n",
    "\n",
    "```\n",
    "Input: nums = [1], k = 1\n",
    "Output: [1]\n",
    "```"
   ]
  },
  {
   "cell_type": "code",
   "execution_count": 1,
   "metadata": {},
   "outputs": [],
   "source": [
    "import heapq\n",
    "\n",
    "class Solution:\n",
    "    # time complexity = O(n log k)\n",
    "    # space complexity = O(n + k) = O(n) as k always <= n\n",
    "    # n = len(nums)\n",
    "    def topKFrequent(self, nums: list[int], k: int) -> list[int]:\n",
    "        counter = {}\n",
    "        for num in nums:\n",
    "            if num not in counter:\n",
    "                counter[num] = 0\n",
    "            counter[num] += 1\n",
    "\n",
    "        heap = []\n",
    "        \n",
    "        for num, freq in counter.items():\n",
    "            if len(heap) == k:\n",
    "                heapq.heappushpop(heap, (freq, num))\n",
    "            else:\n",
    "                heapq.heappush(heap, (freq, num))\n",
    "        \n",
    "        result = [0 for _ in range(k)]\n",
    "        for i in range(k - 1, -1, -1):\n",
    "            result[i] = heapq.heappop(heap)[1]\n",
    "        \n",
    "        return result\n",
    "        "
   ]
  },
  {
   "cell_type": "code",
   "execution_count": 4,
   "metadata": {},
   "outputs": [
    {
     "name": "stdout",
     "output_type": "stream",
     "text": [
      "[1, 2]\n"
     ]
    }
   ],
   "source": [
    "nums = [1, 1, 1, 2, 2, 3]\n",
    "k = 2\n",
    "\n",
    "expected = [1,2]\n",
    "\n",
    "output = Solution().topKFrequent(nums, k)\n",
    "print(output)\n",
    "assert output == expected"
   ]
  },
  {
   "cell_type": "code",
   "execution_count": 5,
   "metadata": {},
   "outputs": [
    {
     "name": "stdout",
     "output_type": "stream",
     "text": [
      "[1]\n"
     ]
    }
   ],
   "source": [
    "nums = [1]\n",
    "k = 1\n",
    "\n",
    "expected = [1]\n",
    "\n",
    "output = Solution().topKFrequent(nums, k)\n",
    "print(output)\n",
    "assert output == expected"
   ]
  }
 ],
 "metadata": {
  "kernelspec": {
   "display_name": "Python 3",
   "language": "python",
   "name": "python3"
  },
  "language_info": {
   "codemirror_mode": {
    "name": "ipython",
    "version": 3
   },
   "file_extension": ".py",
   "mimetype": "text/x-python",
   "name": "python",
   "nbconvert_exporter": "python",
   "pygments_lexer": "ipython3",
   "version": "3.10.4"
  },
  "orig_nbformat": 4
 },
 "nbformat": 4,
 "nbformat_minor": 2
}
