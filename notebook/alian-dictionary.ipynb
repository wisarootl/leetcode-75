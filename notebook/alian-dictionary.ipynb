{
 "cells": [
  {
   "cell_type": "code",
   "execution_count": 15,
   "metadata": {},
   "outputs": [],
   "source": [
    "# Time:  O(n)\n",
    "# Space: O(|V|+|E|) = O(26 + 26^2) = O(1)\n",
    "\n",
    "# import collections\n",
    "\n",
    "\n",
    "# # BFS solution.\n",
    "# class Solution(object):\n",
    "#     def alienOrder(self, words):\n",
    "#         \"\"\"\n",
    "#         :type words: List[str]\n",
    "#         :rtype: str\n",
    "#         \"\"\"\n",
    "#         result, in_degree, out_degree = [], {}, {}\n",
    "#         zero_in_degree_queue = collections.deque()\n",
    "#         nodes = set()\n",
    "#         for word in words:\n",
    "#             for c in word:\n",
    "#                 nodes.add(c)\n",
    "\n",
    "#         for i in range(1, len(words)):\n",
    "#             if (len(words[i-1]) > len(words[i]) and\n",
    "#                     words[i-1][:len(words[i])] == words[i]):\n",
    "#                 return \"\"\n",
    "#             self.findEdges(words[i - 1], words[i], in_degree, out_degree)\n",
    "        \n",
    "#         print(result)\n",
    "#         print(in_degree)\n",
    "#         print(out_degree)\n",
    "\n",
    "#         for node in nodes:\n",
    "#             if node not in in_degree:\n",
    "#                 zero_in_degree_queue.append(node)\n",
    "\n",
    "#         while zero_in_degree_queue:\n",
    "#             precedence = zero_in_degree_queue.popleft()\n",
    "#             result.append(precedence)\n",
    "\n",
    "#             if precedence in out_degree:\n",
    "#                 for c in out_degree[precedence]:\n",
    "#                     in_degree[c].discard(precedence)\n",
    "#                     if not in_degree[c]:\n",
    "#                         zero_in_degree_queue.append(c)\n",
    "\n",
    "#                 del out_degree[precedence]\n",
    "\n",
    "#         if out_degree:\n",
    "#             return \"\"\n",
    "\n",
    "#         return \"\".join(result)\n",
    "\n",
    "#     # Construct the graph.\n",
    "#     def findEdges(self, word1, word2, in_degree, out_degree):\n",
    "#         str_len = min(len(word1), len(word2))\n",
    "#         for i in range(str_len):\n",
    "#             if word1[i] != word2[i]:\n",
    "#                 if word2[i] not in in_degree:\n",
    "#                     in_degree[word2[i]] = set()\n",
    "#                 if word1[i] not in out_degree:\n",
    "#                     out_degree[word1[i]] = set()\n",
    "#                 in_degree[word2[i]].add(word1[i])\n",
    "#                 out_degree[word1[i]].add(word2[i])\n",
    "#                 break\n",
    "\n",
    "# Time:  O(n*m)\n",
    "# Space: O(|V|+|E|) = O(26 + 26^2) = O(1)\n",
    "# n = len of dictionary\n",
    "# m = max len of word\n",
    "# DFS solution.\n",
    "class Solution(object):\n",
    "    def alienOrder(self, words):\n",
    "        \"\"\"\n",
    "        :type words: List[str]\n",
    "        :rtype: str\n",
    "        \"\"\"\n",
    "        \n",
    "        # Find ancestors of each node by DFS.\n",
    "        # ancestors is reversed adjacency list\n",
    "        nodes, ancestors = set(), {}\n",
    "        for i in range(len(words)):\n",
    "            for c in words[i]:\n",
    "                nodes.add(c)\n",
    "                \n",
    "        for node in nodes:\n",
    "            ancestors[node] = []\n",
    "            \n",
    "        for i in range(1, len(words)):\n",
    "            if (len(words[i-1]) > len(words[i]) and\n",
    "                    words[i-1][:len(words[i])] == words[i]):\n",
    "                return \"\"\n",
    "            self.findEdges(words[i - 1], words[i], ancestors)\n",
    "            \n",
    "\n",
    "        # Output topological order by DFS.\n",
    "        result = []\n",
    "        visited = set()\n",
    "        processing = set()\n",
    "        cyclic_status = False\n",
    "        \n",
    "        \n",
    "        for node in nodes:\n",
    "            cyclic_status = self.topSortDFS(node, node, ancestors, visited, processing, result, cyclic_status)\n",
    "            if cyclic_status:\n",
    "                return \"\"\n",
    "\n",
    "        return \"\".join(result)\n",
    "\n",
    "    # Construct the graph.\n",
    "    def findEdges(self, word1, word2, ancestors):\n",
    "        min_len = min(len(word1), len(word2))\n",
    "        for i in range(min_len):\n",
    "            if word1[i] != word2[i]:\n",
    "                ancestors[word2[i]].append(word1[i])\n",
    "                break\n",
    "\n",
    "    # Topological sort, return whether there is a cycle.\n",
    "    def topSortDFS(self, root, node, ancestors, visited, processing, result, cyclic_status):\n",
    "        if node in visited:\n",
    "            return cyclic_status\n",
    "        if node in processing:\n",
    "            cyclic_status = True\n",
    "            return cyclic_status\n",
    "        \n",
    "        processing.add(node)\n",
    "        if node in ancestors:\n",
    "            for ancestor in ancestors[node]:\n",
    "                 cyclic_status = self.topSortDFS(root, ancestor, ancestors, visited, processing, result, cyclic_status)\n",
    "\n",
    "        \n",
    "        processing.remove(node)\n",
    "        visited.add(node)\n",
    "        result.append(node)\n",
    "        return False\n"
   ]
  },
  {
   "cell_type": "code",
   "execution_count": 16,
   "metadata": {},
   "outputs": [
    {
     "name": "stdout",
     "output_type": "stream",
     "text": [
      "wertf\n"
     ]
    }
   ],
   "source": [
    "words = [\n",
    "  \"wrt\",\n",
    "  \"wrf\",\n",
    "  \"er\",\n",
    "  \"ett\",\n",
    "  \"rftt\"\n",
    "]\n",
    "expected = \"wertf\"\n",
    "\n",
    "output = Solution().alienOrder(words)\n",
    "print(output)\n",
    "\n",
    "assert output == expected"
   ]
  },
  {
   "cell_type": "code",
   "execution_count": 17,
   "metadata": {},
   "outputs": [
    {
     "name": "stdout",
     "output_type": "stream",
     "text": [
      "zx\n"
     ]
    }
   ],
   "source": [
    "words = [\n",
    "  \"z\",\n",
    "  \"x\"\n",
    "]\n",
    "\n",
    "\n",
    "expected = \"zx\"\n",
    "\n",
    "output = Solution().alienOrder(words)\n",
    "print(output)\n",
    "\n",
    "assert output == expected"
   ]
  },
  {
   "cell_type": "code",
   "execution_count": 4,
   "metadata": {},
   "outputs": [
    {
     "name": "stdout",
     "output_type": "stream",
     "text": [
      "\n"
     ]
    }
   ],
   "source": [
    "words = [\n",
    "  \"z\",\n",
    "  \"x\",\n",
    "  \"z\"\n",
    "]\n",
    "\n",
    "expected = \"\"\n",
    "\n",
    "output = Solution().alienOrder(words)\n",
    "print(output)\n",
    "\n",
    "assert output == expected"
   ]
  },
  {
   "cell_type": "code",
   "execution_count": 5,
   "metadata": {},
   "outputs": [
    {
     "name": "stdout",
     "output_type": "stream",
     "text": [
      "bdac\n"
     ]
    }
   ],
   "source": [
    "words = [\"baa\",\"abcd\",\"abca\",\"cab\",\"cad\"]\n",
    "\n",
    "expected = \"bdac\"\n",
    "\n",
    "output = Solution().alienOrder(words)\n",
    "print(output)\n",
    "\n",
    "assert output == expected"
   ]
  },
  {
   "cell_type": "code",
   "execution_count": 6,
   "metadata": {},
   "outputs": [
    {
     "name": "stdout",
     "output_type": "stream",
     "text": [
      "cab\n"
     ]
    }
   ],
   "source": [
    "words = [\"caa\",\"aaa\",\"aab\"]\n",
    "\n",
    "expected = \"cab\"\n",
    "\n",
    "output = Solution().alienOrder(words)\n",
    "print(output)\n",
    "\n",
    "assert output == expected"
   ]
  }
 ],
 "metadata": {
  "kernelspec": {
   "display_name": "Python 3",
   "language": "python",
   "name": "python3"
  },
  "language_info": {
   "codemirror_mode": {
    "name": "ipython",
    "version": 3
   },
   "file_extension": ".py",
   "mimetype": "text/x-python",
   "name": "python",
   "nbconvert_exporter": "python",
   "pygments_lexer": "ipython3",
   "version": "3.10.4"
  },
  "orig_nbformat": 4
 },
 "nbformat": 4,
 "nbformat_minor": 2
}
