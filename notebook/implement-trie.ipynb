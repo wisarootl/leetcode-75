{
 "cells": [
  {
   "cell_type": "markdown",
   "metadata": {},
   "source": [
    "# Implement Trie (Prefix Tree)"
   ]
  },
  {
   "cell_type": "markdown",
   "metadata": {},
   "source": [
    "A trie (pronounced as \"try\") or prefix tree is a tree data structure used to efficiently store and retrieve keys in a dataset of strings. There are various applications of this data structure, such as autocomplete and spellchecker.\n",
    "\n",
    "Implement the Trie class:\n",
    "\n",
    "- `Trie()` Initializes the trie object.\n",
    "- `void insert(String word)` Inserts the string `word` into the trie.\n",
    "- `boolean search(String word)` Returns `true` if the string `word` is in the trie (i.e., was inserted before), and `false` otherwise.\n",
    "- `boolean startsWith(String prefix)` Returns `true` if there is a previously inserted string `word` that has the prefix `prefix`, and `false` otherwise.\n",
    " "
   ]
  },
  {
   "cell_type": "code",
   "execution_count": 2,
   "metadata": {},
   "outputs": [],
   "source": [
    "class Trie:\n",
    "\n",
    "    def __init__(self):\n",
    "        self.root={}\n",
    "        \n",
    "\n",
    "    def insert(self, word: str) -> None:\n",
    "\n",
    "        cur = self.root\n",
    "\n",
    "        for letter in word:\n",
    "            if letter not in cur:\n",
    "                cur[letter] = {}\n",
    "            cur = cur[letter]\n",
    "\n",
    "        cur['*'] = ''\n",
    "        \n",
    "\n",
    "    def search(self, word: str) -> bool:\n",
    "\n",
    "        cur = self.root\n",
    "        for letter in word:\n",
    "            if letter not in cur:\n",
    "                return False\n",
    "            cur = cur[letter]\n",
    "\n",
    "        return '*' in cur\n",
    "        \n",
    "\n",
    "    def startsWith(self, prefix: str) -> bool:\n",
    "\n",
    "        cur = self.root\n",
    "        for letter in prefix:\n",
    "            if letter not in cur:\n",
    "                return False\n",
    "            cur = cur[letter]\n",
    " \n",
    "        return True\n",
    "        \n",
    "\n",
    "\n",
    "# Your Trie object will be instantiated and called as such:\n",
    "# obj = Trie()\n",
    "# obj.insert(word)\n",
    "# param_2 = obj.search(word)\n",
    "# param_3 = obj.startsWith(prefix)"
   ]
  },
  {
   "cell_type": "code",
   "execution_count": 3,
   "metadata": {},
   "outputs": [],
   "source": [
    "trie = Trie()\n",
    "trie.insert(\"apple\")\n",
    "assert trie.search(\"apple\") == True"
   ]
  },
  {
   "cell_type": "code",
   "execution_count": 5,
   "metadata": {},
   "outputs": [],
   "source": [
    "assert trie.search(\"app\") == False\n",
    "assert trie.startsWith(\"app\") == True"
   ]
  },
  {
   "cell_type": "code",
   "execution_count": 7,
   "metadata": {},
   "outputs": [],
   "source": [
    "\n",
    "trie.insert(\"app\")\n",
    "assert trie.search(\"app\") == True"
   ]
  }
 ],
 "metadata": {
  "kernelspec": {
   "display_name": "Python 3",
   "language": "python",
   "name": "python3"
  },
  "language_info": {
   "codemirror_mode": {
    "name": "ipython",
    "version": 3
   },
   "file_extension": ".py",
   "mimetype": "text/x-python",
   "name": "python",
   "nbconvert_exporter": "python",
   "pygments_lexer": "ipython3",
   "version": "3.10.4"
  },
  "orig_nbformat": 4
 },
 "nbformat": 4,
 "nbformat_minor": 2
}
