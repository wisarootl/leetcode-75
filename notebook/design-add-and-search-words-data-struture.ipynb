{
 "cells": [
  {
   "cell_type": "markdown",
   "metadata": {},
   "source": [
    "# Design Add and Search Words Data Structure"
   ]
  },
  {
   "cell_type": "markdown",
   "metadata": {},
   "source": [
    "Design a data structure that supports adding new words and finding if a string matches any previously added string.\n",
    "\n",
    "Implement the `WordDictionary` class:\n",
    "\n",
    "- `WordDictionary()` Initializes the object.\n",
    "- `void addWord(word)` Adds `word` to the data structure, it can be matched later.\n",
    "- `bool search(word)` Returns `true` if there is any string in the data structure that matches `word` or `false` otherwise. `word` may contain dots `'.'` where dots can be matched with any letter."
   ]
  },
  {
   "cell_type": "markdown",
   "metadata": {},
   "source": [
    "Example:\n",
    "```\n",
    "Input\n",
    "[\"WordDictionary\",\"addWord\",\"addWord\",\"addWord\",\"search\",\"search\",\"search\",\"search\"]\n",
    "[[],[\"bad\"],[\"dad\"],[\"mad\"],[\"pad\"],[\"bad\"],[\".ad\"],[\"b..\"]]\n",
    "Output\n",
    "[null,null,null,null,false,true,true,true]\n",
    "\n",
    "Explanation\n",
    "WordDictionary wordDictionary = new WordDictionary();\n",
    "wordDictionary.addWord(\"bad\");\n",
    "wordDictionary.addWord(\"dad\");\n",
    "wordDictionary.addWord(\"mad\");\n",
    "wordDictionary.search(\"pad\"); // return False\n",
    "wordDictionary.search(\"bad\"); // return True\n",
    "wordDictionary.search(\".ad\"); // return True\n",
    "wordDictionary.search(\"b..\"); // return True\n",
    "\n",
    "```"
   ]
  },
  {
   "cell_type": "code",
   "execution_count": 1,
   "metadata": {},
   "outputs": [],
   "source": [
    "class Trie:\n",
    "    def __init__(self):\n",
    "        self.root = {}\n",
    "    \n",
    "    def addWord(self, word):\n",
    "        node = self.root\n",
    "        for char in word:\n",
    "            if char not in node:\n",
    "                node[char] = {}\n",
    "            node = node[char]\n",
    "        node[\"*\"] = {}\n",
    "\n",
    "    def search(self, word):\n",
    "        return self.dfs(self.root, word, 0)\n",
    "\n",
    "    def dfs(self, node, word, i):\n",
    "        if i >= len(word):\n",
    "            return \"*\" in node\n",
    "        elif word[i] in node:\n",
    "            node = node[word[i]]\n",
    "            return self.dfs(node, word, i + 1)\n",
    "        elif word[i] == \".\":\n",
    "            return any([self.dfs(node[char], word, i + 1) for char in node.keys()])\n",
    "        return False\n",
    "\n",
    "class WordDictionary:\n",
    "\n",
    "    # space = O(n*m)\n",
    "    def __init__(self):\n",
    "        self.trie = Trie()\n",
    "        \n",
    "    # time = O(1)\n",
    "    # space = O(m)\n",
    "    def addWord(self, word: str) -> None:\n",
    "        self.trie.addWord(word)\n",
    "        \n",
    "    # time = O(n*m)\n",
    "    # space = O(1)\n",
    "    # n = number of words\n",
    "    # m = max len of word\n",
    "    def search(self, word: str) -> bool:\n",
    "        return self.trie.search(word)"
   ]
  },
  {
   "cell_type": "code",
   "execution_count": 2,
   "metadata": {},
   "outputs": [],
   "source": [
    "word_dictionary = WordDictionary()\n",
    "word_dictionary.addWord(\"bad\")\n",
    "word_dictionary.addWord(\"dad\")\n",
    "word_dictionary.addWord(\"mad\")"
   ]
  },
  {
   "cell_type": "code",
   "execution_count": 3,
   "metadata": {},
   "outputs": [],
   "source": [
    "assert word_dictionary.search(\"pad\") == False"
   ]
  },
  {
   "cell_type": "code",
   "execution_count": 4,
   "metadata": {},
   "outputs": [],
   "source": [
    "assert word_dictionary.search(\"bad\") == True"
   ]
  },
  {
   "cell_type": "code",
   "execution_count": 5,
   "metadata": {},
   "outputs": [],
   "source": [
    "assert word_dictionary.search(\".ad\") == True"
   ]
  },
  {
   "cell_type": "code",
   "execution_count": 6,
   "metadata": {},
   "outputs": [],
   "source": [
    "assert word_dictionary.search(\"b..\") == True"
   ]
  },
  {
   "cell_type": "code",
   "execution_count": 7,
   "metadata": {},
   "outputs": [],
   "source": [
    "word_dictionary = WordDictionary()\n",
    "word_dictionary.addWord(\"a\")\n",
    "word_dictionary.addWord(\"a\")"
   ]
  },
  {
   "cell_type": "code",
   "execution_count": 8,
   "metadata": {},
   "outputs": [],
   "source": [
    "assert word_dictionary.search(\".\") == True"
   ]
  },
  {
   "cell_type": "code",
   "execution_count": 9,
   "metadata": {},
   "outputs": [],
   "source": [
    "assert word_dictionary.search(\"a\") == True"
   ]
  },
  {
   "cell_type": "code",
   "execution_count": 10,
   "metadata": {},
   "outputs": [],
   "source": [
    "assert word_dictionary.search(\"aa\") == False"
   ]
  },
  {
   "cell_type": "code",
   "execution_count": 11,
   "metadata": {},
   "outputs": [],
   "source": [
    "assert word_dictionary.search(\"a\") == True"
   ]
  },
  {
   "cell_type": "code",
   "execution_count": 12,
   "metadata": {},
   "outputs": [],
   "source": [
    "assert word_dictionary.search(\".a\") == False"
   ]
  },
  {
   "cell_type": "code",
   "execution_count": 13,
   "metadata": {},
   "outputs": [],
   "source": [
    "assert word_dictionary.search(\"a.\") == False"
   ]
  },
  {
   "cell_type": "code",
   "execution_count": null,
   "metadata": {},
   "outputs": [],
   "source": []
  }
 ],
 "metadata": {
  "kernelspec": {
   "display_name": "Python 3",
   "language": "python",
   "name": "python3"
  },
  "language_info": {
   "codemirror_mode": {
    "name": "ipython",
    "version": 3
   },
   "file_extension": ".py",
   "mimetype": "text/x-python",
   "name": "python",
   "nbconvert_exporter": "python",
   "pygments_lexer": "ipython3",
   "version": "3.10.4"
  },
  "orig_nbformat": 4
 },
 "nbformat": 4,
 "nbformat_minor": 2
}
