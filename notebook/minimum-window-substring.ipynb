{
 "cells": [
  {
   "cell_type": "markdown",
   "metadata": {},
   "source": [
    "# Minimum Window Substring"
   ]
  },
  {
   "cell_type": "markdown",
   "metadata": {},
   "source": [
    "Given two strings `s` and `t` of lengths `m` and `n` respectively, return the minimum window \n",
    "substring of `s` such that every character in `t` (including duplicates) is included in the window. If there is no such substring, return the empty string `\"\"`.\n",
    "\n",
    "The testcases will be generated such that the answer is unique."
   ]
  },
  {
   "cell_type": "markdown",
   "metadata": {},
   "source": [
    "Example 1:\n",
    "```\n",
    "Input: s = \"ADOBECODEBANC\", t = \"ABC\"\n",
    "Output: \"BANC\"\n",
    "Explanation: The minimum window substring \"BANC\" includes 'A', 'B', and 'C' from string t.\n",
    "```"
   ]
  },
  {
   "cell_type": "markdown",
   "metadata": {},
   "source": [
    "Example 2:\n",
    "```\n",
    "Input: s = \"a\", t = \"a\"\n",
    "Output: \"a\"\n",
    "Explanation: The entire string s is the minimum window.\n",
    "```"
   ]
  },
  {
   "cell_type": "markdown",
   "metadata": {},
   "source": [
    "Example 3:\n",
    "```\n",
    "Input: s = \"a\", t = \"aa\"\n",
    "Output: \"\"\n",
    "Explanation: Both 'a's from t must be included in the window.\n",
    "Since the largest window of s only has one 'a', return empty string.\n",
    "```"
   ]
  },
  {
   "cell_type": "code",
   "execution_count": 15,
   "metadata": {},
   "outputs": [],
   "source": [
    "class Solution:\n",
    "    # time = O(len(s))\n",
    "    # Space = O(len(s))\n",
    "    def minWindow(self, s: str, t: str) -> str:\n",
    "        if not s or not t or len(s) < len(t):\n",
    "            return ''\n",
    "        \n",
    "        t_counter = Counter(t)\n",
    "        chars = len(t_counter.keys())\n",
    "        \n",
    "        s_counter = Counter()\n",
    "        matches = 0\n",
    "\n",
    "        answer = ''\n",
    "        \n",
    "        i = 0\n",
    "        j = -1 # make j = -1 to start, so we can move it forward and put s[0] in s_counter in the extend phase \n",
    "\n",
    "        while i < len(s):\n",
    "            \n",
    "            # extend\n",
    "            if matches < chars:\n",
    "                \n",
    "                # since we don't have enough matches and j is at the end of the string, we have no way to increase matches\n",
    "                if j == len(s) - 1:\n",
    "                    return answer\n",
    "                \n",
    "                j += 1\n",
    "                s_counter[s[j]] += 1\n",
    "                if t_counter[s[j]] > 0 and s_counter[s[j]] == t_counter[s[j]]:\n",
    "                    matches += 1\n",
    "\n",
    "            # contract\n",
    "            else:\n",
    "                s_counter[s[i]] -= 1\n",
    "                if t_counter[s[i]] > 0 and s_counter[s[i]] == t_counter[s[i]] - 1:\n",
    "                    matches -= 1\n",
    "                i += 1\n",
    "                \n",
    "            # update answer\n",
    "            if matches == chars:\n",
    "                if not answer:\n",
    "                    answer = s[i:j+1]\n",
    "                elif (j - i + 1) < len(answer):\n",
    "                    answer = s[i:j+1]\n",
    "        \n",
    "        return answer"
   ]
  },
  {
   "cell_type": "code",
   "execution_count": 16,
   "metadata": {},
   "outputs": [
    {
     "name": "stdout",
     "output_type": "stream",
     "text": [
      "BANC\n"
     ]
    }
   ],
   "source": [
    "s = \"ADOBECODEBANC\"\n",
    "t = \"ABC\"\n",
    "expected = \"BANC\"\n",
    "\n",
    "output = Solution().minWindow(s, t)\n",
    "print(output)\n",
    "assert output == expected"
   ]
  },
  {
   "cell_type": "code",
   "execution_count": 17,
   "metadata": {},
   "outputs": [
    {
     "name": "stdout",
     "output_type": "stream",
     "text": [
      "a\n"
     ]
    }
   ],
   "source": [
    "s = \"a\"\n",
    "t = \"a\"\n",
    "expected = \"a\"\n",
    "\n",
    "output = Solution().minWindow(s, t)\n",
    "print(output)\n",
    "assert output == expected"
   ]
  },
  {
   "cell_type": "code",
   "execution_count": 18,
   "metadata": {},
   "outputs": [
    {
     "name": "stdout",
     "output_type": "stream",
     "text": [
      "\n"
     ]
    }
   ],
   "source": [
    "s = \"a\"\n",
    "t = \"aa\"\n",
    "expected = \"\"\n",
    "\n",
    "output = Solution().minWindow(s, t)\n",
    "print(output)\n",
    "assert output == expected"
   ]
  }
 ],
 "metadata": {
  "kernelspec": {
   "display_name": "Python 3",
   "language": "python",
   "name": "python3"
  },
  "language_info": {
   "codemirror_mode": {
    "name": "ipython",
    "version": 3
   },
   "file_extension": ".py",
   "mimetype": "text/x-python",
   "name": "python",
   "nbconvert_exporter": "python",
   "pygments_lexer": "ipython3",
   "version": "3.10.4"
  },
  "orig_nbformat": 4
 },
 "nbformat": 4,
 "nbformat_minor": 2
}
