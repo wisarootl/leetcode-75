{
 "cells": [
  {
   "attachments": {},
   "cell_type": "markdown",
   "metadata": {},
   "source": [
    "# Same Tree"
   ]
  },
  {
   "attachments": {},
   "cell_type": "markdown",
   "metadata": {},
   "source": [
    "Given the roots of two binary trees `p` and `q`, write a function to check if they are the same or not.\n",
    "\n",
    "Two binary trees are considered the same if they are structurally identical, and the nodes have the same value."
   ]
  },
  {
   "attachments": {},
   "cell_type": "markdown",
   "metadata": {},
   "source": [
    "```\n",
    "  1\n",
    " / \\\n",
    "2   3\n",
    "\n",
    "  1\n",
    " / \\\n",
    "2   3\n",
    "\n",
    "True\n",
    "```"
   ]
  },
  {
   "attachments": {},
   "cell_type": "markdown",
   "metadata": {},
   "source": [
    "```\n",
    "  1\n",
    " /\n",
    "2 \n",
    "\n",
    "  1\n",
    "   \\\n",
    "    2\n",
    "\n",
    "False\n",
    "```"
   ]
  },
  {
   "cell_type": "code",
   "execution_count": null,
   "metadata": {},
   "outputs": [],
   "source": []
  },
  {
   "cell_type": "code",
   "execution_count": 1,
   "metadata": {},
   "outputs": [],
   "source": [
    "import copy"
   ]
  },
  {
   "cell_type": "code",
   "execution_count": 2,
   "metadata": {},
   "outputs": [],
   "source": [
    "class TreeNode:\n",
    "    def __init__(self, val=0, left=None, right=None):\n",
    "        self.val = val\n",
    "        self.left = left\n",
    "        self.right = right\n",
    "\n",
    "from typing import Optional\n",
    "\n",
    "# Time O(N)\n",
    "# Space O(N)\n",
    "class Solution:\n",
    "    def isSameTree(self, p: Optional[TreeNode], q: Optional[TreeNode]) -> bool:\n",
    "        if not p and not q:\n",
    "            return True\n",
    "        elif not p or not q:\n",
    "            return False\n",
    "\n",
    "        is_same_val = p.val == q.val\n",
    "        is_same_left = self.isSameTree(p.left, q.left)\n",
    "        is_same_right = self.isSameTree(p.right, q.right)\n",
    "        return is_same_val and is_same_left and is_same_right\n"
   ]
  },
  {
   "cell_type": "code",
   "execution_count": 3,
   "metadata": {},
   "outputs": [
    {
     "name": "stdout",
     "output_type": "stream",
     "text": [
      "True\n"
     ]
    }
   ],
   "source": [
    "root = TreeNode(1)\n",
    "root.left = TreeNode(2)\n",
    "root.right = TreeNode(3)\n",
    "\n",
    "p = copy.deepcopy(root)\n",
    "q = copy.deepcopy(root)\n",
    "\n",
    "expected = True\n",
    "\n",
    "output = Solution().isSameTree(p, q)\n",
    "print(output)\n",
    "\n",
    "assert output == expected"
   ]
  },
  {
   "cell_type": "code",
   "execution_count": 4,
   "metadata": {},
   "outputs": [
    {
     "name": "stdout",
     "output_type": "stream",
     "text": [
      "False\n"
     ]
    }
   ],
   "source": [
    "p = TreeNode(1)\n",
    "p.left = TreeNode(2)\n",
    "\n",
    "q = TreeNode(1)\n",
    "q.right = TreeNode(2)\n",
    "\n",
    "\n",
    "expected = False\n",
    "\n",
    "output = Solution().isSameTree(p, q)\n",
    "print(output)\n",
    "\n",
    "assert output == expected"
   ]
  },
  {
   "cell_type": "code",
   "execution_count": null,
   "metadata": {},
   "outputs": [],
   "source": []
  }
 ],
 "metadata": {
  "kernelspec": {
   "display_name": "Python 3",
   "language": "python",
   "name": "python3"
  },
  "language_info": {
   "codemirror_mode": {
    "name": "ipython",
    "version": 3
   },
   "file_extension": ".py",
   "mimetype": "text/x-python",
   "name": "python",
   "nbconvert_exporter": "python",
   "pygments_lexer": "ipython3",
   "version": "3.10.4"
  },
  "orig_nbformat": 4
 },
 "nbformat": 4,
 "nbformat_minor": 2
}
