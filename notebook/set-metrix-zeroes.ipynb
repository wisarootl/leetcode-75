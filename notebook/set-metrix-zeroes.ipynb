{
 "cells": [
  {
   "cell_type": "markdown",
   "metadata": {},
   "source": [
    "# Set Matrix Zeroes"
   ]
  },
  {
   "cell_type": "markdown",
   "metadata": {},
   "source": [
    "Given an `m x n` integer matrix `matrix`, if an element is `0`, set its entire row and column to `0`'s.\n",
    "\n",
    "You must do it in place."
   ]
  },
  {
   "cell_type": "markdown",
   "metadata": {},
   "source": [
    "Example 1\n",
    "\n",
    "| 1 | 1 | 1 |\n",
    "|---|---|---|\n",
    "| 1 | 0 | 1 |\n",
    "| 1 | 1 | 1 |\n",
    "\n",
    "to\n",
    "\n",
    "| 1 | 0 | 1 |\n",
    "|---|---|---|\n",
    "| 0 | 0 | 0 |\n",
    "| 1 | 0 | 1 |\n",
    "\n",
    "\n",
    "```\n",
    "Input: matrix = [[1,1,1],[1,0,1],[1,1,1]]\n",
    "Output: [[1,0,1],[0,0,0],[1,0,1]]\n",
    "```"
   ]
  },
  {
   "cell_type": "markdown",
   "metadata": {},
   "source": [
    "Example 2:\n",
    "```\n",
    "Input: matrix = [[0,1,2,0],[3,4,5,2],[1,3,1,5]]\n",
    "Output: [[0,0,0,0],[0,4,5,0],[0,3,1,0]]\n",
    "```"
   ]
  },
  {
   "cell_type": "code",
   "execution_count": null,
   "metadata": {},
   "outputs": [],
   "source": [
    "# [[0,1,2,0],\n",
    "#  [3,4,5,2],\n",
    "#  [1,3,1,5]]\n",
    "\n",
    "# [[0,0,0,0],\n",
    "#  [0,4,5,0],\n",
    "#  [0,3,1,0]]"
   ]
  },
  {
   "cell_type": "code",
   "execution_count": null,
   "metadata": {},
   "outputs": [],
   "source": [
    "#  [[1,1,1],\n",
    "#   [1,0,1],\n",
    "#   [1,1,1]]\n",
    "\n",
    "# mark first row and first col\n",
    "#  [[1,0,1],\n",
    "#   [0,0,1],\n",
    "#   [1,1,1]]\n",
    "\n",
    "# propagate\n",
    "#  [[1,0,1],\n",
    "#   [0,0,0],\n",
    "#   [1,0,1]]\n",
    "\n",
    "\n",
    "# if first row or first col have zero\n",
    "#  [[1,0,1],\n",
    "#   [0,0,0],\n",
    "#   [1,0,1]]"
   ]
  },
  {
   "cell_type": "code",
   "execution_count": null,
   "metadata": {},
   "outputs": [],
   "source": [
    "#  [[1,1,1],\n",
    "#   [0,1,1],\n",
    "#   [1,1,1]]\n",
    "\n",
    "# mark first row and first col\n",
    "#  [[0,1,1],\n",
    "#   [0,1,1],\n",
    "#   [1,1,1]]\n",
    "\n",
    "# propagate\n",
    "#  [[0,1,1],\n",
    "#   [0,0,0],\n",
    "#   [1,1,1]]\n",
    "\n",
    "\n",
    "# if first row or first col have zero\n",
    "# first fol has zero\n",
    "#  [[0,1,1],\n",
    "#   [0,0,0],\n",
    "#   [0,1,1]]"
   ]
  },
  {
   "cell_type": "code",
   "execution_count": 6,
   "metadata": {},
   "outputs": [],
   "source": [
    "class Solution:\n",
    "    def setZeroes(self, matrix: list[list[int]]) -> None:\n",
    "        \"\"\"\n",
    "        Do not return anything, modify matrix in-place instead.\n",
    "        \"\"\"\n",
    "        \n",
    "        m = len(matrix)\n",
    "        n = len(matrix[0])\n",
    "        \n",
    "        first_row_has_zero = False\n",
    "        first_col_has_zero = False\n",
    "        \n",
    "        for row in range(m):\n",
    "          for col in range(n):\n",
    "            if matrix[row][col] == 0:\n",
    "              if row == 0:\n",
    "                first_row_has_zero = True\n",
    "              if col == 0:\n",
    "                first_col_has_zero = True\n",
    "              matrix[row][0] = 0\n",
    "              matrix[0][col] = 0\n",
    "        \n",
    "        for row in range(1, m):\n",
    "          for col in range(1, n):\n",
    "            if matrix[0][col] == 0 or matrix[row][0] == 0:\n",
    "              matrix[row][col] = 0\n",
    "        \n",
    "        if first_row_has_zero:\n",
    "          for col in range(n):\n",
    "            matrix[0][col] = 0\n",
    "        \n",
    "        \n",
    "        if first_col_has_zero:\n",
    "          for row in range(m):\n",
    "            matrix[row][0] = 0\n",
    "                \n"
   ]
  },
  {
   "cell_type": "code",
   "execution_count": 7,
   "metadata": {},
   "outputs": [
    {
     "name": "stdout",
     "output_type": "stream",
     "text": [
      "[[1, 0, 1], [0, 0, 0], [1, 0, 1]]\n"
     ]
    }
   ],
   "source": [
    "matrix = [[1,1,1],[1,0,1],[1,1,1]]\n",
    "\n",
    "expected = [[1,0,1],[0,0,0],[1,0,1]]\n",
    "\n",
    "\n",
    "Solution().setZeroes(matrix)\n",
    "\n",
    "\n",
    "print(matrix)\n",
    "\n",
    "assert matrix == expected"
   ]
  },
  {
   "cell_type": "code",
   "execution_count": 8,
   "metadata": {},
   "outputs": [
    {
     "name": "stdout",
     "output_type": "stream",
     "text": [
      "[[0, 0, 0, 0], [0, 4, 5, 0], [0, 3, 1, 0]]\n"
     ]
    }
   ],
   "source": [
    "matrix = [[0,1,2,0],\n",
    "          [3,4,5,2],\n",
    "          [1,3,1,5]]\n",
    "\n",
    "expected = [[0,0,0,0],\n",
    "            [0,4,5,0],\n",
    "            [0,3,1,0]]\n",
    "\n",
    "\n",
    "Solution().setZeroes(matrix)\n",
    "\n",
    "\n",
    "print(matrix)\n",
    "\n",
    "assert matrix == expected"
   ]
  },
  {
   "cell_type": "code",
   "execution_count": null,
   "metadata": {},
   "outputs": [],
   "source": []
  }
 ],
 "metadata": {
  "kernelspec": {
   "display_name": "Python 3",
   "language": "python",
   "name": "python3"
  },
  "language_info": {
   "codemirror_mode": {
    "name": "ipython",
    "version": 3
   },
   "file_extension": ".py",
   "mimetype": "text/x-python",
   "name": "python",
   "nbconvert_exporter": "python",
   "pygments_lexer": "ipython3",
   "version": "3.10.4"
  },
  "orig_nbformat": 4
 },
 "nbformat": 4,
 "nbformat_minor": 2
}
