{
 "cells": [
  {
   "cell_type": "markdown",
   "metadata": {},
   "source": [
    "# Decode Ways"
   ]
  },
  {
   "cell_type": "markdown",
   "metadata": {},
   "source": [
    "A message containing letters from `A-Z` can be encoded into numbers using the following mapping:\n",
    "\n",
    "```\n",
    "'A' -> \"1\"\n",
    "'B' -> \"2\"\n",
    "...\n",
    "'Z' -> \"26\"\n",
    "```\n",
    "\n",
    "To decode an encoded message, all the digits must be grouped then mapped back into letters using the reverse of the mapping above (there may be multiple ways). For example, `\"11106\"` can be mapped into:\n",
    "\n",
    "- `\"AAJF\"` with the grouping `(1 1 10 6)`\n",
    "- `\"KJF\"` with the grouping `(11 10 6)`\n",
    "Note that the grouping `(1 11 06)` is invalid because `\"06\"` cannot be mapped into `'F'` since `\"6\"` is different from `\"06\"`.\n",
    "\n",
    "Given a string `s` containing only digits, return the number of ways to decode it.\n",
    "\n",
    "The test cases are generated so that the answer fits in a 32-bit integer."
   ]
  },
  {
   "cell_type": "code",
   "execution_count": 14,
   "metadata": {},
   "outputs": [],
   "source": [
    "class Solution:\n",
    "    def numDecodings(self, s: str) -> int:\n",
    "        # cannot map to any character due to the leading zero\n",
    "        if s[0] == '0':\n",
    "            return 0\n",
    "        n = len(s)\n",
    "        s = list(s)\n",
    "        last = [1, 1]\n",
    "\n",
    "        for i in range(n):\n",
    "            current = 0\n",
    "            if s[i] != \"0\":\n",
    "                current = last[-1]\n",
    "            if i >= 1:\n",
    "                group = int(s[i - 1] + s[i])\n",
    "                if 10 <= group <= 26:\n",
    "                    current += last[-2]\n",
    "            last[-2] = last[-1]\n",
    "            last[-1] = current\n",
    "\n",
    "        return  last[-1]\n",
    "\n"
   ]
  },
  {
   "cell_type": "code",
   "execution_count": 19,
   "metadata": {},
   "outputs": [
    {
     "name": "stdout",
     "output_type": "stream",
     "text": [
      "2\n"
     ]
    }
   ],
   "source": [
    "s = \"12\"\n",
    "expected = 2\n",
    "\n",
    "\n",
    "output = Solution().numDecodings(s)\n",
    "\n",
    "print(output)\n",
    "assert output == expected"
   ]
  },
  {
   "cell_type": "code",
   "execution_count": 20,
   "metadata": {},
   "outputs": [
    {
     "name": "stdout",
     "output_type": "stream",
     "text": [
      "3\n"
     ]
    }
   ],
   "source": [
    "s = \"226\"\n",
    "expected = 3\n",
    "\n",
    "\n",
    "output = Solution().numDecodings(s)\n",
    "\n",
    "print(output)\n",
    "assert output == expected"
   ]
  },
  {
   "cell_type": "code",
   "execution_count": 21,
   "metadata": {},
   "outputs": [
    {
     "name": "stdout",
     "output_type": "stream",
     "text": [
      "0\n"
     ]
    }
   ],
   "source": [
    "s = \"06\"\n",
    "expected = 0\n",
    "\n",
    "\n",
    "output = Solution().numDecodings(s)\n",
    "\n",
    "print(output)\n",
    "assert output == expected"
   ]
  }
 ],
 "metadata": {
  "kernelspec": {
   "display_name": "Python 3",
   "language": "python",
   "name": "python3"
  },
  "language_info": {
   "codemirror_mode": {
    "name": "ipython",
    "version": 3
   },
   "file_extension": ".py",
   "mimetype": "text/x-python",
   "name": "python",
   "nbconvert_exporter": "python",
   "pygments_lexer": "ipython3",
   "version": "3.10.4"
  },
  "orig_nbformat": 4
 },
 "nbformat": 4,
 "nbformat_minor": 2
}
