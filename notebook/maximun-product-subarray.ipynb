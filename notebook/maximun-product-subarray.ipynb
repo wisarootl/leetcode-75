{
 "cells": [
  {
   "cell_type": "markdown",
   "metadata": {},
   "source": [
    "# Maximum Product Subarray"
   ]
  },
  {
   "cell_type": "markdown",
   "metadata": {},
   "source": [
    "Given an integer array `nums`, find a \n",
    "subarray\n",
    " that has the largest product, and return the product.\n",
    "\n",
    "The test cases are generated so that the answer will fit in a 32-bit integer."
   ]
  },
  {
   "cell_type": "markdown",
   "metadata": {},
   "source": [
    "Example 1:\n",
    "```\n",
    "Input: nums = [2,3,-2,4]\n",
    "Output: 6\n",
    "Explanation: [2,3] has the largest product 6.\n",
    "```"
   ]
  },
  {
   "cell_type": "markdown",
   "metadata": {},
   "source": [
    "Example 2:\n",
    "```\n",
    "Input: nums = [-2,0,-1]\n",
    "Output: 0\n",
    "Explanation: The result cannot be 2, because [-2,-1] is not a subarray.\n",
    "```"
   ]
  },
  {
   "cell_type": "code",
   "execution_count": 1,
   "metadata": {},
   "outputs": [],
   "source": [
    "from typing import List\n",
    "\n",
    "class Solution:\n",
    "    def maxProduct(self, nums: List[int]) -> int:\n",
    "        curMax, curMin = 1, 1\n",
    "        res = nums[0]\n",
    "        \n",
    "        for n in nums:\n",
    "            vals = (n, n * curMax, n * curMin)\n",
    "            curMax, curMin = max(vals), min(vals)\n",
    "\t\t\t\n",
    "            res = max(res, curMax)\n",
    "            \n",
    "        return res"
   ]
  },
  {
   "cell_type": "code",
   "execution_count": 2,
   "metadata": {},
   "outputs": [
    {
     "name": "stdout",
     "output_type": "stream",
     "text": [
      "6\n"
     ]
    }
   ],
   "source": [
    "nums = [2,3,-2,4]\n",
    "expected = 6\n",
    "\n",
    "output = Solution().maxProduct(nums)\n",
    "print(output)\n",
    "assert output == expected"
   ]
  },
  {
   "cell_type": "code",
   "execution_count": 3,
   "metadata": {},
   "outputs": [
    {
     "name": "stdout",
     "output_type": "stream",
     "text": [
      "24\n"
     ]
    }
   ],
   "source": [
    "nums = [-2,3,-4]\n",
    "expected = 24\n",
    "\n",
    "output = Solution().maxProduct(nums)\n",
    "print(output)\n",
    "assert output == expected"
   ]
  },
  {
   "cell_type": "code",
   "execution_count": 4,
   "metadata": {},
   "outputs": [
    {
     "name": "stdout",
     "output_type": "stream",
     "text": [
      "0\n"
     ]
    }
   ],
   "source": [
    "nums = [-2,0,-1]\n",
    "expected = 0\n",
    "\n",
    "output = Solution().maxProduct(nums)\n",
    "print(output)\n",
    "assert output == expected"
   ]
  },
  {
   "cell_type": "code",
   "execution_count": null,
   "metadata": {},
   "outputs": [],
   "source": []
  }
 ],
 "metadata": {
  "kernelspec": {
   "display_name": "Python 3",
   "language": "python",
   "name": "python3"
  },
  "language_info": {
   "codemirror_mode": {
    "name": "ipython",
    "version": 3
   },
   "file_extension": ".py",
   "mimetype": "text/x-python",
   "name": "python",
   "nbconvert_exporter": "python",
   "pygments_lexer": "ipython3",
   "version": "3.10.4"
  },
  "orig_nbformat": 4
 },
 "nbformat": 4,
 "nbformat_minor": 2
}
