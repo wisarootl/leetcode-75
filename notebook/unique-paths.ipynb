{
 "cells": [
  {
   "attachments": {},
   "cell_type": "markdown",
   "metadata": {},
   "source": [
    "There is a robot on an m x n grid. The robot is initially located at the top-left corner (i.e., grid[0][0]). The robot tries to move to the bottom-right corner (i.e., grid[m - 1][n - 1]). The robot can only move either down or right at any point in time.\n",
    "\n",
    "Given the two integers m and n, return the number of possible unique paths that the robot can take to reach the bottom-right corner.\n",
    "\n",
    "The test cases are generated so that the answer will be less than or equal to 2 * 109."
   ]
  },
  {
   "attachments": {},
   "cell_type": "markdown",
   "metadata": {},
   "source": [
    "| s |   |   |\n",
    "|---|---|---|\n",
    "|  . |   |   |\n",
    "|  . |   |   |\n",
    "| .  |  . | e |\n",
    "\n",
    "m = 3, n= 7\n",
    "expected = 10"
   ]
  },
  {
   "attachments": {},
   "cell_type": "markdown",
   "metadata": {},
   "source": [
    "Input: m = 3, n = 2\n",
    "Output: 3\n",
    "Explanation: From the top-left corner, there are a total of 3 ways to reach the bottom-right corner:\n",
    "1. Right -> Down -> Down\n",
    "2. Down -> Down -> Right\n",
    "3. Down -> Right -> Down"
   ]
  },
  {
   "attachments": {},
   "cell_type": "markdown",
   "metadata": {},
   "source": [
    "Input: m = 3, n = 7\n",
    "Output: 28"
   ]
  },
  {
   "cell_type": "code",
   "execution_count": 1,
   "metadata": {},
   "outputs": [],
   "source": [
    "# dynamic programming solution\n",
    "class Solution:\n",
    "    # Time O(M * N)\n",
    "    # Space O(min(M, N))\n",
    "    def uniquePaths(self, m: int, n: int) -> int:\n",
    "        n, m = min(m, n), max(m, n)\n",
    "        dp_curr = [0 for _ in range(n)]\n",
    "        dp_prev = [0 for _ in range(n)]\n",
    "\n",
    "        for r in range(m):\n",
    "            for c in range(n):\n",
    "                if r == 0 or c == 0:\n",
    "                    dp_curr[c] = 1\n",
    "                else:\n",
    "                    dp_curr[c] = dp_prev[c] + dp_curr[c-1]\n",
    "\n",
    "            dp_curr, dp_prev = dp_prev, dp_curr\n",
    "        \n",
    "        return dp_prev[n-1]\n",
    "        \n"
   ]
  },
  {
   "cell_type": "code",
   "execution_count": 2,
   "metadata": {},
   "outputs": [],
   "source": [
    "# math solution\n",
    "\n",
    "# (m+n-2) move\n",
    "# select n-1 move to be move down\n",
    "# the rest is move right\n",
    "# nCr = (m+n-2)! / ((n-1)! * (m-1)!)\n",
    "\n",
    "from math import factorial\n",
    "\n",
    "class Solution:\n",
    "    # time = O(M + N)\n",
    "    # space = O(1)\n",
    "    def uniquePaths(self, m: int, n: int) -> int:\n",
    "        return factorial(m+n-2) // factorial(n-1) // factorial(m-1)"
   ]
  },
  {
   "cell_type": "code",
   "execution_count": 3,
   "metadata": {},
   "outputs": [
    {
     "name": "stdout",
     "output_type": "stream",
     "text": [
      "3\n"
     ]
    }
   ],
   "source": [
    "m = 3\n",
    "n = 2\n",
    "expected = 3\n",
    "\n",
    "output = Solution().uniquePaths(m ,n)\n",
    "print(output)\n",
    "\n",
    "assert output == expected\n"
   ]
  },
  {
   "cell_type": "code",
   "execution_count": 4,
   "metadata": {},
   "outputs": [
    {
     "name": "stdout",
     "output_type": "stream",
     "text": [
      "3\n"
     ]
    }
   ],
   "source": [
    "m = 3\n",
    "n = 2\n",
    "expected = 3\n",
    "\n",
    "output = Solution().uniquePaths(m ,n)\n",
    "print(output)\n",
    "\n",
    "assert output == expected\n"
   ]
  },
  {
   "cell_type": "code",
   "execution_count": 5,
   "metadata": {},
   "outputs": [
    {
     "name": "stdout",
     "output_type": "stream",
     "text": [
      "10\n"
     ]
    }
   ],
   "source": [
    "m = 3\n",
    "n = 4\n",
    "expected = 10\n",
    "\n",
    "output = Solution().uniquePaths(m ,n)\n",
    "print(output)\n",
    "\n",
    "assert output == expected"
   ]
  }
 ],
 "metadata": {
  "kernelspec": {
   "display_name": "Python 3",
   "language": "python",
   "name": "python3"
  },
  "language_info": {
   "codemirror_mode": {
    "name": "ipython",
    "version": 3
   },
   "file_extension": ".py",
   "mimetype": "text/x-python",
   "name": "python",
   "nbconvert_exporter": "python",
   "pygments_lexer": "ipython3",
   "version": "3.10.4"
  },
  "orig_nbformat": 4
 },
 "nbformat": 4,
 "nbformat_minor": 2
}
