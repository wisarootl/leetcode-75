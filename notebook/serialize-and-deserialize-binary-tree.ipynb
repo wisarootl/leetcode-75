{
 "cells": [
  {
   "cell_type": "code",
   "execution_count": 1,
   "metadata": {},
   "outputs": [],
   "source": [
    "import collections\n",
    "\n",
    "\n",
    "# Definition for a binary tree node.\n",
    "class TreeNode(object):\n",
    "    def __init__(self, x):\n",
    "        self.val = x\n",
    "        self.left = None\n",
    "        self.right = None\n",
    "\n",
    "class Codec:\n",
    "\n",
    "    def serialize(self, root):\n",
    "        \"\"\"Encodes a tree to a single string.\n",
    "        \n",
    "        :type root: TreeNode\n",
    "        :rtype: str\n",
    "        \"\"\"\n",
    "        serialized_bt = []\n",
    "        queue = collections.deque([root])\n",
    "        while queue:\n",
    "            node = queue.pop()\n",
    "            if node:\n",
    "                serialized_bt.append(str(node.val))\n",
    "                queue.appendleft(node.left)\n",
    "                queue.appendleft(node.right)\n",
    "            else:\n",
    "                serialized_bt.append(\"\")\n",
    "        \n",
    "        return \",\".join(serialized_bt)\n",
    "\n",
    "    def deserialize(self, data):\n",
    "        \"\"\"Decodes your encoded data to tree.\n",
    "        \n",
    "        :type data: str\n",
    "        :rtype: TreeNode\n",
    "        \"\"\"\n",
    "        if not data:\n",
    "            return\n",
    "        serialized_bt = data.split(\",\")\n",
    "        root = TreeNode(serialized_bt[0])\n",
    "        queue = collections.deque([root])\n",
    "        i = 1\n",
    "        while queue:\n",
    "            node = queue.pop()\n",
    "            if i < len(serialized_bt) and serialized_bt[i]:\n",
    "                node.left = TreeNode(int(serialized_bt[i]))\n",
    "                queue.appendleft(node.left)\n",
    "            i += 1\n",
    "            if i < len(serialized_bt) and serialized_bt[i]:\n",
    "                node.right = TreeNode(int(serialized_bt[i]))\n",
    "                queue.appendleft(node.right)\n",
    "            i += 1\n",
    "        \n",
    "        return root\n",
    "        \n",
    "\n",
    "# Your Codec object will be instantiated and called as such:\n",
    "# ser = Codec()\n",
    "# deser = Codec()\n",
    "# ans = deser.deserialize(ser.serialize(root))"
   ]
  },
  {
   "cell_type": "code",
   "execution_count": 2,
   "metadata": {},
   "outputs": [
    {
     "name": "stdout",
     "output_type": "stream",
     "text": [
      "1,2,3,,,4,5,,,,\n"
     ]
    }
   ],
   "source": [
    "root = TreeNode(1)\n",
    "root.left = TreeNode(2)\n",
    "root.right = TreeNode(3)\n",
    "root.right.left = TreeNode(4)\n",
    "root.right.right = TreeNode(5)\n",
    "\n",
    "\n",
    "serialized_bt = Codec().serialize(root)\n",
    "\n",
    "print(serialized_bt)"
   ]
  },
  {
   "cell_type": "code",
   "execution_count": 3,
   "metadata": {},
   "outputs": [
    {
     "name": "stdout",
     "output_type": "stream",
     "text": [
      "1\n",
      "2\n",
      "3\n"
     ]
    }
   ],
   "source": [
    "\n",
    "root = Codec().deserialize(serialized_bt)\n",
    "\n",
    "print(root.val)\n",
    "print(root.left.val)\n",
    "print(root.right.val)"
   ]
  },
  {
   "cell_type": "code",
   "execution_count": 4,
   "metadata": {},
   "outputs": [
    {
     "name": "stdout",
     "output_type": "stream",
     "text": [
      "None,,\n"
     ]
    }
   ],
   "source": [
    "root = TreeNode(None)\n",
    "\n",
    "\n",
    "serialized_bt = Codec().serialize(root)\n",
    "\n",
    "print(serialized_bt)"
   ]
  },
  {
   "cell_type": "code",
   "execution_count": 5,
   "metadata": {},
   "outputs": [
    {
     "name": "stdout",
     "output_type": "stream",
     "text": [
      "None\n"
     ]
    }
   ],
   "source": [
    "root = Codec().deserialize(serialized_bt)\n",
    "\n",
    "print(root.val)"
   ]
  },
  {
   "cell_type": "code",
   "execution_count": 7,
   "metadata": {},
   "outputs": [],
   "source": [
    "root = Codec().deserialize(\"\")\n",
    "root"
   ]
  }
 ],
 "metadata": {
  "kernelspec": {
   "display_name": "Python 3",
   "language": "python",
   "name": "python3"
  },
  "language_info": {
   "codemirror_mode": {
    "name": "ipython",
    "version": 3
   },
   "file_extension": ".py",
   "mimetype": "text/x-python",
   "name": "python",
   "nbconvert_exporter": "python",
   "pygments_lexer": "ipython3",
   "version": "3.10.4"
  },
  "orig_nbformat": 4
 },
 "nbformat": 4,
 "nbformat_minor": 2
}
